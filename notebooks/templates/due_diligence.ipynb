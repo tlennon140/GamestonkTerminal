{
 "cells": [
  {
   "cell_type": "code",
   "execution_count": null,
   "id": "blank-couple",
   "metadata": {},
   "outputs": [],
   "source": [
    "import os\n",
    "import sys\n",
    "import datetime\n",
    "module_path = os.path.abspath(os.path.join('../..'))\n",
    "if module_path not in sys.path:\n",
    "    sys.path.append(module_path)"
   ]
  },
  {
   "cell_type": "code",
   "execution_count": null,
   "id": "exact-price",
   "metadata": {},
   "outputs": [],
   "source": [
    "datetime.datetime.now()"
   ]
  },
  {
   "cell_type": "code",
   "execution_count": null,
   "id": "naked-shower",
   "metadata": {
    "tags": [
     "parameters"
    ]
   },
   "outputs": [],
   "source": [
    "ticker=\"GME\""
   ]
  },
  {
   "cell_type": "code",
   "execution_count": null,
   "id": "jewish-birthday",
   "metadata": {},
   "outputs": [],
   "source": [
    "import mplfinance as mpf\n",
    "from alpha_vantage.timeseries import TimeSeries\n",
    "ts = TimeSeries(key=\"REPLACE_ME\", output_format=\"pandas\")\n",
    "df_stock, _ = ts.get_daily_adjusted(symbol=ticker, outputsize=\"compact\")\n",
    "df_stock.rename(columns = {'1. open':'Open', '2. high': 'High', '3. low':'Low', '4. close':'Close',\n",
    "                           '5. adjusted close':'Adjusted Close','6. volume':'Volume'}, inplace = True)"
   ]
  },
  {
   "cell_type": "code",
   "execution_count": null,
   "id": "separated-oasis",
   "metadata": {},
   "outputs": [],
   "source": [
    "mpf.plot(df_stock.iloc[::-1],type='candle',mav=(10,20,50),volume=True, style='yahoo', figratio=(10,5), figscale=1.25)"
   ]
  },
  {
   "cell_type": "code",
   "execution_count": null,
   "id": "external-pocket",
   "metadata": {},
   "outputs": [],
   "source": [
    "from gamestonk_terminal.due_diligence.finviz_api import analyst_df"
   ]
  },
  {
   "cell_type": "code",
   "execution_count": null,
   "id": "danish-stadium",
   "metadata": {},
   "outputs": [],
   "source": [
    "df_fa = analyst_df(ticker)\n",
    "df_fa"
   ]
  }
 ],
 "metadata": {
  "kernelspec": {
   "display_name": "Python 3",
   "language": "python",
   "name": "python3"
  },
  "language_info": {
   "codemirror_mode": {
    "name": "ipython",
    "version": 3
   },
   "file_extension": ".py",
   "mimetype": "text/x-python",
   "name": "python",
   "nbconvert_exporter": "python",
   "pygments_lexer": "ipython3",
   "version": "3.8.5"
  }
 },
 "nbformat": 4,
 "nbformat_minor": 5
}
